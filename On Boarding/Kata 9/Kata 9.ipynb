{
 "cells": [
  {
   "cell_type": "markdown",
   "metadata": {},
   "source": [
    "# NOTAS KATA 9\n",
    "FUNCIONES\n",
    "def nombre_funcion(atributos/argumentos):\n",
    "    #cuerpo_funcion\n",
    "    #return si es necesario\n",
    "\n",
    "Los argumentos de variable se definen con un * en la función -> def func(*arg):\n",
    "Se pueden pasar varios parámetros si la definición de la función es *args o un argumento de variable\n",
    "\n",
    "Si queremos que una función acepte cualquier numero de argumentos de palabras clave se usan dos asteriscos -> def func(**arg): "
   ]
  },
  {
   "cell_type": "code",
   "execution_count": 6,
   "metadata": {},
   "outputs": [
    {
     "name": "stdout",
     "output_type": "stream",
     "text": [
      "Promedio de tanques: 4.0\n",
      "Promedio: 4.333333333333333\n",
      "Promedio de tanques: 5\n"
     ]
    }
   ],
   "source": [
    "from statistics import *\n",
    "\n",
    "def ingresar_datos(tanque1, tanque2, tanque3):\n",
    "    prom = (tanque1 + tanque2 + tanque3) / 3\n",
    "    return f\"\"\"Promedio de tanques: {prom}\"\"\"\n",
    "\n",
    "def ingresar_datos_average(tanque1, tanque2, tanque3):\n",
    "    prom = mean([tanque1, tanque2, tanque3])\n",
    "    return f\"\"\"Promedio de tanques: {prom}\"\"\"\n",
    "\n",
    "def promedio(tanques):\n",
    "    total = sum(tanques)\n",
    "    items = len(tanques)\n",
    "    average = total / items\n",
    "    return(f\"\"\"Promedio: {average}\"\"\")\n",
    "\n",
    "print(ingresar_datos(tanque1=4, tanque2=2, tanque3=6))\n",
    "print(promedio([4, 3, 6])) #Se tiene que pasar como arreglo\n",
    "print(ingresar_datos_average(4, 6, 5))\n"
   ]
  },
  {
   "cell_type": "code",
   "execution_count": 14,
   "metadata": {},
   "outputs": [
    {
     "name": "stdout",
     "output_type": "stream",
     "text": [
      " Destino: Marte\n",
      "    Tiempo total: 700\n",
      "    Combustible restante: 80000\n",
      " Destino: Jupiter\n",
      "    Tiempo total: 500\n",
      "    Combustible restante: 6300000\n",
      " Destino: Saturno\n",
      "    Tiempo total: 1100\n",
      "    Combustible restante: 4020003\n",
      "Tanque externo: 1000000 combustible restante \n",
      "\n",
      "Tanque interno: 3020003 combustible restante \n",
      "\n"
     ]
    }
   ],
   "source": [
    "def informe_preciso(hora_prelanzamiento, tiempo_vuelo, destino, tanque_ex, tanque_inter):\n",
    "    return(f\"\"\" Destino: {destino}\n",
    "    Tiempo total: {hora_prelanzamiento + tiempo_vuelo}\n",
    "    Combustible restante: {tanque_ex + tanque_inter}\"\"\")\n",
    "\n",
    "def informe_preciso_1(destino, *minutos, **tanque):\n",
    "    return(f\"\"\" Destino: {destino}\n",
    "    Tiempo total: {sum(minutos)}\n",
    "    Combustible restante: {sum(tanque.values())}\"\"\")\n",
    "\n",
    "def informe_preciso_2(destino, *minutos, **tanques):\n",
    "    reporte = (f\"\"\" Destino: {destino}\n",
    "    Tiempo total: {sum(minutos)}\n",
    "    Combustible restante: {sum(tanques.values())}\"\"\")\n",
    "    for tanque, capacidad in tanques.items():\n",
    "        reporte += f\"\"\"\\nTanque {tanque}: {capacidad} combustible restante \\n\"\"\"\n",
    "    return reporte\n",
    "\n",
    "print(informe_preciso(500, 200, 'Marte', 50000, 30000))\n",
    "print(informe_preciso_1('Jupiter', 200, 300, externo = 300000, interno = 6000000))\n",
    "print(informe_preciso_2('Saturno', 200, 400, 500, externo = 1000000, interno = 3020003))\n",
    "\n"
   ]
  }
 ],
 "metadata": {
  "interpreter": {
   "hash": "0f11df7b855635dfd9bec78a378488ff14574951861593267eea84b1741b4056"
  },
  "kernelspec": {
   "display_name": "Python 3.10.2 64-bit (windows store)",
   "language": "python",
   "name": "python3"
  },
  "language_info": {
   "codemirror_mode": {
    "name": "ipython",
    "version": 3
   },
   "file_extension": ".py",
   "mimetype": "text/x-python",
   "name": "python",
   "nbconvert_exporter": "python",
   "pygments_lexer": "ipython3",
   "version": "3.10.2"
  },
  "orig_nbformat": 4
 },
 "nbformat": 4,
 "nbformat_minor": 2
}
