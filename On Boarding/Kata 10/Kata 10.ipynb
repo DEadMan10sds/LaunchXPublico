{
 "cells": [
  {
   "cell_type": "markdown",
   "metadata": {},
   "source": [
    "# Tracebacks\n",
    "Error que se da porque no se encuentra la ruta de acceso"
   ]
  },
  {
   "cell_type": "code",
   "execution_count": 1,
   "metadata": {},
   "outputs": [
    {
     "ename": "FileNotFoundError",
     "evalue": "[Errno 2] No such file or directory: 'path/to/mars.jpg'",
     "output_type": "error",
     "traceback": [
      "\u001b[1;31m---------------------------------------------------------------------------\u001b[0m",
      "\u001b[1;31mFileNotFoundError\u001b[0m                         Traceback (most recent call last)",
      "\u001b[1;32md:\\OneDrive - Universidad Autonoma de San Luis Potosi - UASLP\\Tuf\\LaunchX\\On Boarding\\Kata 10\\Kata 10.ipynb Cell 2'\u001b[0m in \u001b[0;36m<module>\u001b[1;34m\u001b[0m\n\u001b[1;32m----> <a href='vscode-notebook-cell:/d%3A/OneDrive%20-%20Universidad%20Autonoma%20de%20San%20Luis%20Potosi%20-%20UASLP/Tuf/LaunchX/On%20Boarding/Kata%2010/Kata%2010.ipynb#ch0000000?line=0'>1</a>\u001b[0m \u001b[39mopen\u001b[39;49m(\u001b[39m\"\u001b[39;49m\u001b[39mpath/to/mars.jpg\u001b[39;49m\u001b[39m\"\u001b[39;49m)\n",
      "\u001b[1;31mFileNotFoundError\u001b[0m: [Errno 2] No such file or directory: 'path/to/mars.jpg'"
     ]
    }
   ],
   "source": [
    "open(\"path/to/mars.jpg\")"
   ]
  },
  {
   "cell_type": "markdown",
   "metadata": {},
   "source": [
    "# Control de excepciones\n",
    "Try & except -> Similar (por no decir igual) al try catch de Java\n",
    "Se pueden agregar excepciones dependiendo de los posibles errores, aunque no es recomendable hacerlos absolutamente todos"
   ]
  },
  {
   "cell_type": "code",
   "execution_count": 1,
   "metadata": {},
   "outputs": [
    {
     "name": "stdout",
     "output_type": "stream",
     "text": [
      "No se pudo abrir el archivo!\n"
     ]
    }
   ],
   "source": [
    "try:\n",
    "    open('config.txt')\n",
    "except FileNotFoundError:\n",
    "    print('No se pudo abrir el archivo!')"
   ]
  },
  {
   "cell_type": "markdown",
   "metadata": {},
   "source": [
    "# Generación de excepciones"
   ]
  },
  {
   "cell_type": "code",
   "execution_count": 5,
   "metadata": {},
   "outputs": [
    {
     "name": "stdout",
     "output_type": "stream",
     "text": [
      "No hay suficiente agua para 5 astronautas después de 2 dias\n"
     ]
    }
   ],
   "source": [
    "def agua_restante(astronautas, agua, dias_Restantes):\n",
    "    uso_diario = astronautas * 11\n",
    "    uso_total = uso_diario * dias_Restantes\n",
    "    agua_sobrante = agua - uso_total\n",
    "    if agua_sobrante < 0:\n",
    "        raise RuntimeError(f\"No hay suficiente agua para {astronautas} astronautas después de {dias_Restantes} dias\")\n",
    "    return f\"\"\"Agua restante después de {dias_Restantes} días es: {agua_sobrante}\"\"\"\n",
    "\n",
    "def alert_navigation_system(err):\n",
    "    print(err)\n",
    "\n",
    "try:\n",
    "    agua_restante(5, 100, 2)\n",
    "except RuntimeError as err:\n",
    "    alert_navigation_system(err)\n"
   ]
  },
  {
   "cell_type": "markdown",
   "metadata": {},
   "source": [
    "# Actualización con typeError"
   ]
  },
  {
   "cell_type": "code",
   "execution_count": 6,
   "metadata": {},
   "outputs": [
    {
     "ename": "TypeError",
     "evalue": "Los argumentos deben ser de tipo entero, se recibió: 100",
     "output_type": "error",
     "traceback": [
      "\u001b[1;31m---------------------------------------------------------------------------\u001b[0m",
      "\u001b[1;31mTypeError\u001b[0m                                 Traceback (most recent call last)",
      "\u001b[1;32md:\\OneDrive - Universidad Autonoma de San Luis Potosi - UASLP\\Tuf\\LaunchX\\On Boarding\\Kata 10\\Kata 10.ipynb Cell 8'\u001b[0m in \u001b[0;36magua_restante\u001b[1;34m(astronautas, agua, dias_Restantes)\u001b[0m\n\u001b[0;32m      <a href='vscode-notebook-cell:/d%3A/OneDrive%20-%20Universidad%20Autonoma%20de%20San%20Luis%20Potosi%20-%20UASLP/Tuf/LaunchX/On%20Boarding/Kata%2010/Kata%2010.ipynb#ch0000008?line=2'>3</a>\u001b[0m \u001b[39mtry\u001b[39;00m:\n\u001b[1;32m----> <a href='vscode-notebook-cell:/d%3A/OneDrive%20-%20Universidad%20Autonoma%20de%20San%20Luis%20Potosi%20-%20UASLP/Tuf/LaunchX/On%20Boarding/Kata%2010/Kata%2010.ipynb#ch0000008?line=3'>4</a>\u001b[0m     argumento \u001b[39m/\u001b[39;49m \u001b[39m10\u001b[39;49m\n\u001b[0;32m      <a href='vscode-notebook-cell:/d%3A/OneDrive%20-%20Universidad%20Autonoma%20de%20San%20Luis%20Potosi%20-%20UASLP/Tuf/LaunchX/On%20Boarding/Kata%2010/Kata%2010.ipynb#ch0000008?line=4'>5</a>\u001b[0m \u001b[39mexcept\u001b[39;00m \u001b[39mTypeError\u001b[39;00m:\n",
      "\u001b[1;31mTypeError\u001b[0m: unsupported operand type(s) for /: 'str' and 'int'",
      "\nDuring handling of the above exception, another exception occurred:\n",
      "\u001b[1;31mTypeError\u001b[0m                                 Traceback (most recent call last)",
      "\u001b[1;32md:\\OneDrive - Universidad Autonoma de San Luis Potosi - UASLP\\Tuf\\LaunchX\\On Boarding\\Kata 10\\Kata 10.ipynb Cell 8'\u001b[0m in \u001b[0;36m<module>\u001b[1;34m\u001b[0m\n\u001b[0;32m     <a href='vscode-notebook-cell:/d%3A/OneDrive%20-%20Universidad%20Autonoma%20de%20San%20Luis%20Potosi%20-%20UASLP/Tuf/LaunchX/On%20Boarding/Kata%2010/Kata%2010.ipynb#ch0000008?line=14'>15</a>\u001b[0m     \u001b[39mprint\u001b[39m(err)\n\u001b[0;32m     <a href='vscode-notebook-cell:/d%3A/OneDrive%20-%20Universidad%20Autonoma%20de%20San%20Luis%20Potosi%20-%20UASLP/Tuf/LaunchX/On%20Boarding/Kata%2010/Kata%2010.ipynb#ch0000008?line=16'>17</a>\u001b[0m \u001b[39mtry\u001b[39;00m:\n\u001b[1;32m---> <a href='vscode-notebook-cell:/d%3A/OneDrive%20-%20Universidad%20Autonoma%20de%20San%20Luis%20Potosi%20-%20UASLP/Tuf/LaunchX/On%20Boarding/Kata%2010/Kata%2010.ipynb#ch0000008?line=17'>18</a>\u001b[0m     agua_restante(\u001b[39m5\u001b[39;49m, \u001b[39m'\u001b[39;49m\u001b[39m100\u001b[39;49m\u001b[39m'\u001b[39;49m, \u001b[39m2\u001b[39;49m)\n\u001b[0;32m     <a href='vscode-notebook-cell:/d%3A/OneDrive%20-%20Universidad%20Autonoma%20de%20San%20Luis%20Potosi%20-%20UASLP/Tuf/LaunchX/On%20Boarding/Kata%2010/Kata%2010.ipynb#ch0000008?line=18'>19</a>\u001b[0m \u001b[39mexcept\u001b[39;00m \u001b[39mRuntimeError\u001b[39;00m \u001b[39mas\u001b[39;00m err:\n\u001b[0;32m     <a href='vscode-notebook-cell:/d%3A/OneDrive%20-%20Universidad%20Autonoma%20de%20San%20Luis%20Potosi%20-%20UASLP/Tuf/LaunchX/On%20Boarding/Kata%2010/Kata%2010.ipynb#ch0000008?line=19'>20</a>\u001b[0m     alert_navigation_system(err)\n",
      "\u001b[1;32md:\\OneDrive - Universidad Autonoma de San Luis Potosi - UASLP\\Tuf\\LaunchX\\On Boarding\\Kata 10\\Kata 10.ipynb Cell 8'\u001b[0m in \u001b[0;36magua_restante\u001b[1;34m(astronautas, agua, dias_Restantes)\u001b[0m\n\u001b[0;32m      <a href='vscode-notebook-cell:/d%3A/OneDrive%20-%20Universidad%20Autonoma%20de%20San%20Luis%20Potosi%20-%20UASLP/Tuf/LaunchX/On%20Boarding/Kata%2010/Kata%2010.ipynb#ch0000008?line=3'>4</a>\u001b[0m         argumento \u001b[39m/\u001b[39m \u001b[39m10\u001b[39m\n\u001b[0;32m      <a href='vscode-notebook-cell:/d%3A/OneDrive%20-%20Universidad%20Autonoma%20de%20San%20Luis%20Potosi%20-%20UASLP/Tuf/LaunchX/On%20Boarding/Kata%2010/Kata%2010.ipynb#ch0000008?line=4'>5</a>\u001b[0m     \u001b[39mexcept\u001b[39;00m \u001b[39mTypeError\u001b[39;00m:\n\u001b[1;32m----> <a href='vscode-notebook-cell:/d%3A/OneDrive%20-%20Universidad%20Autonoma%20de%20San%20Luis%20Potosi%20-%20UASLP/Tuf/LaunchX/On%20Boarding/Kata%2010/Kata%2010.ipynb#ch0000008?line=5'>6</a>\u001b[0m         \u001b[39mraise\u001b[39;00m \u001b[39mTypeError\u001b[39;00m(\u001b[39mf\u001b[39m\u001b[39m\"\u001b[39m\u001b[39mLos argumentos deben ser de tipo entero, se recibió: \u001b[39m\u001b[39m{\u001b[39;00margumento\u001b[39m}\u001b[39;00m\u001b[39m\"\u001b[39m)\n\u001b[0;32m      <a href='vscode-notebook-cell:/d%3A/OneDrive%20-%20Universidad%20Autonoma%20de%20San%20Luis%20Potosi%20-%20UASLP/Tuf/LaunchX/On%20Boarding/Kata%2010/Kata%2010.ipynb#ch0000008?line=6'>7</a>\u001b[0m uso_diario \u001b[39m=\u001b[39m astronautas \u001b[39m*\u001b[39m \u001b[39m11\u001b[39m\n\u001b[0;32m      <a href='vscode-notebook-cell:/d%3A/OneDrive%20-%20Universidad%20Autonoma%20de%20San%20Luis%20Potosi%20-%20UASLP/Tuf/LaunchX/On%20Boarding/Kata%2010/Kata%2010.ipynb#ch0000008?line=7'>8</a>\u001b[0m uso_total \u001b[39m=\u001b[39m uso_diario \u001b[39m*\u001b[39m dias_Restantes\n",
      "\u001b[1;31mTypeError\u001b[0m: Los argumentos deben ser de tipo entero, se recibió: 100"
     ]
    }
   ],
   "source": [
    "def agua_restante(astronautas, agua, dias_Restantes):\n",
    "    for argumento in [astronautas, agua, dias_Restantes]:\n",
    "        try:\n",
    "            argumento / 10\n",
    "        except TypeError:\n",
    "            raise TypeError(f\"Los argumentos deben ser de tipo entero, se recibió: '{argumento}'\")\n",
    "    uso_diario = astronautas * 11\n",
    "    uso_total = uso_diario * dias_Restantes\n",
    "    agua_sobrante = agua - uso_total\n",
    "    if agua_sobrante < 0:\n",
    "        raise RuntimeError(f\"No hay suficiente agua para {astronautas} astronautas después de {dias_Restantes} dias\")\n",
    "    return f\"\"\"Agua restante después de {dias_Restantes} días es: {agua_sobrante}\"\"\"\n",
    "\n",
    "def alert_navigation_system(err):\n",
    "    print(err)\n",
    "\n",
    "try:\n",
    "    agua_restante(5, '100', 2)\n",
    "except RuntimeError as err:\n",
    "    alert_navigation_system(err)"
   ]
  }
 ],
 "metadata": {
  "interpreter": {
   "hash": "0f11df7b855635dfd9bec78a378488ff14574951861593267eea84b1741b4056"
  },
  "kernelspec": {
   "display_name": "Python 3.10.2 64-bit (windows store)",
   "language": "python",
   "name": "python3"
  },
  "language_info": {
   "codemirror_mode": {
    "name": "ipython",
    "version": 3
   },
   "file_extension": ".py",
   "mimetype": "text/x-python",
   "name": "python",
   "nbconvert_exporter": "python",
   "pygments_lexer": "ipython3",
   "version": "3.10.2"
  },
  "orig_nbformat": 4
 },
 "nbformat": 4,
 "nbformat_minor": 2
}
