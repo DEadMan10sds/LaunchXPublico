{
 "cells": [
  {
   "cell_type": "markdown",
   "metadata": {},
   "source": [
    "# Notas kata 7\n",
    "Diccionarios\n",
    "Se declaran similar a una clase de Java\n",
    "nombre_diccionario =\n",
    "{\n",
    "    'atributo': valor -> Los valores se tienen que separar con una coma como en JS\n",
    "}\n",
    "El atributo se comporta como una variable, no es necesario declarar el tipo de dato como en C, C++, java, etc.\n",
    "Tiene funciones/métodos para obtener información -> diccionario.get('atributo') -> Se puede usar sintaxis de arreglos -> diccionario['atributo']\n",
    "\n",
    "La sintaxis devuelve un error si el atributo no está, el .get() devuelve 'none' (personalmente lo recomiendo más)\n",
    "\n",
    "Para modificar un diccionario se usa el método .update({'atributo': valor}) -> Se puede usar igual sintaxis de arreglos sin embargo, con update se pueden modificar diversos atributos al mismo tiempo\n",
    "\n",
    "Para quitar datos se usa el pop -> diccionario.pop('atributo'), para agregar se usa la sintaxis de modificación o preferiblemente la de arreglo\n",
    "\n",
    "## SE PUEDEN ANIDAR DICCIONARIOS\n",
    "diccionario1 = \n",
    "{\n",
    "    diccionario1 = \n",
    "    {\n",
    "\n",
    "    }\n",
    "}\n",
    "\n",
    "Método keys() -> regresa un objeto con las claves del diccionario. Se puede usar para iterar con un ciclo\n",
    "Puedes verificar la existencia de un atributo con el if\n",
    "\n",
    "Método values() -> regresa los o el valor de un atributo\n"
   ]
  },
  {
   "cell_type": "code",
   "execution_count": 7,
   "metadata": {},
   "outputs": [
    {
     "name": "stdout",
     "output_type": "stream",
     "text": [
      "Planet: Mars - Moons: 2\n",
      "Planet: Mars -Polar: 6752\n"
     ]
    }
   ],
   "source": [
    "planet = { #Python no reconoce el diccionario si no está el = & { seguidos >:(\n",
    "    'name': 'Mars',\n",
    "    'Moons': 2\n",
    "}\n",
    "\n",
    "print('Planet: ' + planet.get('name') + ' - Moons: ' + str(planet.get('Moons')))\n",
    "\n",
    "planet['polar'] = 6752\n",
    "planet['equatorial'] = 6792\n",
    "\n",
    "print('Planet: ' + planet.get('name') + ' - Polar: ' + str(planet.get('polar')))\n",
    "\n"
   ]
  },
  {
   "cell_type": "code",
   "execution_count": 12,
   "metadata": {},
   "outputs": [
    {
     "name": "stdout",
     "output_type": "stream",
     "text": [
      "53.5\n"
     ]
    }
   ],
   "source": [
    "moons = 0\n",
    "\n",
    "planet_moons = {\n",
    "    'mercury': 0,\n",
    "    'venus': 0,\n",
    "    'earth': 1,\n",
    "    'mars': 2,\n",
    "    'jupiter': 79,\n",
    "    'saturn': 82,\n",
    "    'uranus': 27,\n",
    "    'neptune': 14,\n",
    "    'pluto': 5,\n",
    "    'haumea': 2,\n",
    "    'makemake': 1,\n",
    "    'eris': 1\n",
    "}\n",
    "\n",
    "for att in planet_moons.values():\n",
    "    moons += att\n",
    "total_moons = moons / len(planet)\n",
    "print(str(total_moons))"
   ]
  }
 ],
 "metadata": {
  "interpreter": {
   "hash": "0f11df7b855635dfd9bec78a378488ff14574951861593267eea84b1741b4056"
  },
  "kernelspec": {
   "display_name": "Python 3.10.2 64-bit (windows store)",
   "language": "python",
   "name": "python3"
  },
  "language_info": {
   "codemirror_mode": {
    "name": "ipython",
    "version": 3
   },
   "file_extension": ".py",
   "mimetype": "text/x-python",
   "name": "python",
   "nbconvert_exporter": "python",
   "pygments_lexer": "ipython3",
   "version": "3.10.2"
  },
  "orig_nbformat": 4
 },
 "nbformat": 4,
 "nbformat_minor": 2
}
