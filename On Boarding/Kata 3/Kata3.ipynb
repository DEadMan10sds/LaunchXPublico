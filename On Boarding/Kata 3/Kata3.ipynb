{
 "cells": [
  {
   "cell_type": "code",
   "execution_count": null,
   "metadata": {},
   "outputs": [],
   "source": [
    "velocidad_asteroide = 49\n",
    "\n",
    "if(velocidad_asteroide > 25): print(\"Mira arriba! un asteroide!!!\")\n",
    "else: print(\"El asteroide no va a llegar a la tierra\")\n",
    "\n",
    "\n",
    "velocidad2_asteroide = 19\n",
    "if(velocidad2_asteroide > 20): \n",
    "    print(\"Hay una luz brillante en el cielo!!!\") #Cambiar por >= para eliminar un if\n",
    "elif(velocidad2_asteroide == 20): \n",
    "    print(\"Una luz brillante en el cielo!!!\")\n",
    "else: \n",
    "    print(\"No pasa nada\")\n",
    "\n",
    "asteroide_dimensiones = 25\n",
    "velocidad3_asteroide = 30\n",
    "\n",
    "if(asteroide_dimensiones > 25 and velocidad3_asteroide > 25): print(\"Un asteroide se acerca a la tierra\")\n",
    "elif(asteroide_dimensiones > 25 and velocidad3_asteroide < 25): print(\"Va a pasar un asteroide\")\n",
    "elif(asteroide_dimensiones < 25 and velocidad3_asteroide > 25): print(\"Una luz brillante en el cielo!!!\")\n",
    "else: print(\"No pasa nada\")"
   ]
  }
 ],
 "metadata": {
  "language_info": {
   "name": "python"
  },
  "orig_nbformat": 4
 },
 "nbformat": 4,
 "nbformat_minor": 2
}
