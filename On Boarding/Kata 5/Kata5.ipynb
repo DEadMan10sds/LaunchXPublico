{
 "cells": [
  {
   "cell_type": "code",
   "execution_count": null,
   "metadata": {},
   "outputs": [],
   "source": [
    "#División de piso -> doble diagonal, divide y redondea hacia abajo -> //\n",
    "#Jerarquía -> Paréntesis -> Exponentes -> Multiplicación y división -> Suma y resta\n",
    "\n",
    "from ast import parse\n",
    "\n",
    "\n",
    "tierrra_distancia = 149597870\n",
    "jupiter_distancia = 7778547200\n",
    "\n",
    "distancia_planetas = abs(tierrra_distancia - jupiter_distancia)\n",
    "distancia_planetas_millas = distancia_planetas * 0.621\n",
    "\n",
    "print(distancia_planetas)\n",
    "print(distancia_planetas_millas)\n",
    "\n",
    "planeta1 = input(\"¿Cuál es la distancia del primer planeta?\")\n",
    "planeta2 = input(\"¿Cuál es la distancia del segundo planeta?\")\n",
    "\n",
    "planeta1 = int(planeta1)\n",
    "planeta2 = int(planeta2)\n",
    "\n",
    "distancia = abs(planeta1 - planeta2)\n",
    "distancia_millas = distancia * 0.621\n",
    "\n",
    "print(\"Distancia: \" + str(distancia))\n",
    "print(\"Distancia en millas: \" + str(distancia_millas))"
   ]
  }
 ],
 "metadata": {
  "language_info": {
   "name": "python"
  },
  "orig_nbformat": 4
 },
 "nbformat": 4,
 "nbformat_minor": 2
}
