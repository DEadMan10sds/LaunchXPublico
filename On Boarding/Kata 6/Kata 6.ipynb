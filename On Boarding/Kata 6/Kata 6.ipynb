{
 "cells": [
  {
   "cell_type": "markdown",
   "metadata": {},
   "source": [
    "# Listas\n",
    "Similar a los arreglos\n"
   ]
  },
  {
   "cell_type": "code",
   "execution_count": 4,
   "metadata": {},
   "outputs": [
    {
     "name": "stdout",
     "output_type": "stream",
     "text": [
      "Planetas en el sistema: 8\n"
     ]
    }
   ],
   "source": [
    "planets = [\"Mercurio\", \"Venus\", \"Tierra\", \"Marte\", \"Júpiter\", \"Saturno\", \"Urano\", \"Neptuno\"]\n",
    "\n",
    "print(\"Planetas en el sistema: \" + str(len(planets)))"
   ]
  },
  {
   "cell_type": "markdown",
   "metadata": {},
   "source": [
    "# Ejercicio 2"
   ]
  },
  {
   "cell_type": "code",
   "execution_count": 20,
   "metadata": {},
   "outputs": [
    {
     "name": "stdout",
     "output_type": "stream",
     "text": [
      "El planeta está en la posición: 3\n",
      "Los planetas más cercanos al sol son: ['Mercury', 'Venus', 'Earth']\n",
      "Los planetas más lejanos al sol son: ['Jupiter', 'Saturn', 'Neptune']\n"
     ]
    }
   ],
   "source": [
    "#Lista de planetas\n",
    "planetas = ['Mercury', 'Venus', 'Earth', 'Mars', 'Jupiter', 'Saturn', 'Neptune']\n",
    "\n",
    "new_planet = input(\"¿Qué planeta deseas agregar? (Inicia con una mayúscula) \")\n",
    "new_planet_index = planetas.index(new_planet)\n",
    "\n",
    "if(new_planet_index == -1):\n",
    "    print(\"No se encuentra ese planeta\")\n",
    "else:\n",
    "    print(\"El planeta está en la posición: \" + str(new_planet_index))\n",
    "\n",
    "planetas_cercanos = str(planetas[:new_planet_index])\n",
    "planetas_lejanos = str(planetas[new_planet_index + 1:]) #Se suma 1 para no mostrar el planeta buscado\n",
    "\n",
    "print(\"Los planetas más cercanos al sol son: \" + planetas_cercanos)\n",
    "print(\"Los planetas más lejanos al sol son: \" + planetas_lejanos)"
   ]
  }
 ],
 "metadata": {
  "interpreter": {
   "hash": "669f5abd92f1a410df15b0643b9f42360e277a412fc08ae8bc7d7911cf7e8f3d"
  },
  "kernelspec": {
   "display_name": "Python 3.10.2 64-bit",
   "language": "python",
   "name": "python3"
  },
  "language_info": {
   "codemirror_mode": {
    "name": "ipython",
    "version": 3
   },
   "file_extension": ".py",
   "mimetype": "text/x-python",
   "name": "python",
   "nbconvert_exporter": "python",
   "pygments_lexer": "ipython3",
   "version": "3.10.2"
  },
  "orig_nbformat": 4
 },
 "nbformat": 4,
 "nbformat_minor": 2
}
